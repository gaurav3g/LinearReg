{
 "cells": [
  {
   "cell_type": "code",
   "execution_count": 1,
   "metadata": {},
   "outputs": [
    {
     "name": "stdout",
     "output_type": "stream",
     "text": [
      "<class 'pandas.core.frame.DataFrame'>\n",
      "RangeIndex: 5163 entries, 0 to 5162\n",
      "Data columns (total 9 columns):\n",
      " #   Column      Non-Null Count  Dtype  \n",
      "---  ------      --------------  -----  \n",
      " 0   Prev Close  5163 non-null   float64\n",
      " 1   Open        5163 non-null   float64\n",
      " 2   High        5163 non-null   float64\n",
      " 3   Low         5163 non-null   float64\n",
      " 4   Last        5163 non-null   float64\n",
      " 5   Close       5163 non-null   float64\n",
      " 6   VWAP        5163 non-null   float64\n",
      " 7   Volume      5163 non-null   int64  \n",
      " 8   Month       5163 non-null   int64  \n",
      "dtypes: float64(7), int64(2)\n",
      "memory usage: 363.1 KB\n"
     ]
    },
    {
     "data": {
      "text/html": [
       "<div>\n",
       "<style scoped>\n",
       "    .dataframe tbody tr th:only-of-type {\n",
       "        vertical-align: middle;\n",
       "    }\n",
       "\n",
       "    .dataframe tbody tr th {\n",
       "        vertical-align: top;\n",
       "    }\n",
       "\n",
       "    .dataframe thead th {\n",
       "        text-align: right;\n",
       "    }\n",
       "</style>\n",
       "<table border=\"1\" class=\"dataframe\">\n",
       "  <thead>\n",
       "    <tr style=\"text-align: right;\">\n",
       "      <th></th>\n",
       "      <th>Prev Close</th>\n",
       "      <th>Open</th>\n",
       "      <th>High</th>\n",
       "      <th>Low</th>\n",
       "      <th>Last</th>\n",
       "      <th>Close</th>\n",
       "      <th>VWAP</th>\n",
       "      <th>Volume</th>\n",
       "      <th>Month</th>\n",
       "    </tr>\n",
       "  </thead>\n",
       "  <tbody>\n",
       "    <tr>\n",
       "      <th>count</th>\n",
       "      <td>5163.000000</td>\n",
       "      <td>5163.000000</td>\n",
       "      <td>5163.000000</td>\n",
       "      <td>5163.000000</td>\n",
       "      <td>5163.000000</td>\n",
       "      <td>5163.000000</td>\n",
       "      <td>5163.000000</td>\n",
       "      <td>5.163000e+03</td>\n",
       "      <td>5163.000000</td>\n",
       "    </tr>\n",
       "    <tr>\n",
       "      <th>mean</th>\n",
       "      <td>1743.353322</td>\n",
       "      <td>1745.428975</td>\n",
       "      <td>1769.765214</td>\n",
       "      <td>1719.800475</td>\n",
       "      <td>1743.919194</td>\n",
       "      <td>1744.087643</td>\n",
       "      <td>1745.193287</td>\n",
       "      <td>4.143166e+05</td>\n",
       "      <td>6.455355</td>\n",
       "    </tr>\n",
       "    <tr>\n",
       "      <th>std</th>\n",
       "      <td>980.627609</td>\n",
       "      <td>982.404452</td>\n",
       "      <td>992.503187</td>\n",
       "      <td>972.041822</td>\n",
       "      <td>981.633537</td>\n",
       "      <td>981.786655</td>\n",
       "      <td>982.209638</td>\n",
       "      <td>5.761814e+05</td>\n",
       "      <td>3.424858</td>\n",
       "    </tr>\n",
       "    <tr>\n",
       "      <th>min</th>\n",
       "      <td>374.000000</td>\n",
       "      <td>365.650000</td>\n",
       "      <td>384.950000</td>\n",
       "      <td>355.250000</td>\n",
       "      <td>375.150000</td>\n",
       "      <td>374.000000</td>\n",
       "      <td>372.550000</td>\n",
       "      <td>7.070000e+02</td>\n",
       "      <td>1.000000</td>\n",
       "    </tr>\n",
       "    <tr>\n",
       "      <th>25%</th>\n",
       "      <td>899.250000</td>\n",
       "      <td>899.000000</td>\n",
       "      <td>910.000000</td>\n",
       "      <td>883.100000</td>\n",
       "      <td>900.000000</td>\n",
       "      <td>899.250000</td>\n",
       "      <td>899.045000</td>\n",
       "      <td>1.635345e+05</td>\n",
       "      <td>3.000000</td>\n",
       "    </tr>\n",
       "    <tr>\n",
       "      <th>50%</th>\n",
       "      <td>1496.000000</td>\n",
       "      <td>1500.000000</td>\n",
       "      <td>1523.850000</td>\n",
       "      <td>1472.950000</td>\n",
       "      <td>1496.000000</td>\n",
       "      <td>1496.000000</td>\n",
       "      <td>1497.990000</td>\n",
       "      <td>2.881410e+05</td>\n",
       "      <td>6.000000</td>\n",
       "    </tr>\n",
       "    <tr>\n",
       "      <th>75%</th>\n",
       "      <td>2550.650000</td>\n",
       "      <td>2550.000000</td>\n",
       "      <td>2582.775000</td>\n",
       "      <td>2518.250000</td>\n",
       "      <td>2548.675000</td>\n",
       "      <td>2551.200000</td>\n",
       "      <td>2550.070000</td>\n",
       "      <td>4.970450e+05</td>\n",
       "      <td>9.000000</td>\n",
       "    </tr>\n",
       "    <tr>\n",
       "      <th>max</th>\n",
       "      <td>5333.350000</td>\n",
       "      <td>5333.350000</td>\n",
       "      <td>5512.650000</td>\n",
       "      <td>5111.250000</td>\n",
       "      <td>5306.000000</td>\n",
       "      <td>5333.350000</td>\n",
       "      <td>5287.280000</td>\n",
       "      <td>2.198715e+07</td>\n",
       "      <td>12.000000</td>\n",
       "    </tr>\n",
       "  </tbody>\n",
       "</table>\n",
       "</div>"
      ],
      "text/plain": [
       "        Prev Close         Open         High          Low         Last  \\\n",
       "count  5163.000000  5163.000000  5163.000000  5163.000000  5163.000000   \n",
       "mean   1743.353322  1745.428975  1769.765214  1719.800475  1743.919194   \n",
       "std     980.627609   982.404452   992.503187   972.041822   981.633537   \n",
       "min     374.000000   365.650000   384.950000   355.250000   375.150000   \n",
       "25%     899.250000   899.000000   910.000000   883.100000   900.000000   \n",
       "50%    1496.000000  1500.000000  1523.850000  1472.950000  1496.000000   \n",
       "75%    2550.650000  2550.000000  2582.775000  2518.250000  2548.675000   \n",
       "max    5333.350000  5333.350000  5512.650000  5111.250000  5306.000000   \n",
       "\n",
       "             Close         VWAP        Volume        Month  \n",
       "count  5163.000000  5163.000000  5.163000e+03  5163.000000  \n",
       "mean   1744.087643  1745.193287  4.143166e+05     6.455355  \n",
       "std     981.786655   982.209638  5.761814e+05     3.424858  \n",
       "min     374.000000   372.550000  7.070000e+02     1.000000  \n",
       "25%     899.250000   899.045000  1.635345e+05     3.000000  \n",
       "50%    1496.000000  1497.990000  2.881410e+05     6.000000  \n",
       "75%    2551.200000  2550.070000  4.970450e+05     9.000000  \n",
       "max    5333.350000  5287.280000  2.198715e+07    12.000000  "
      ]
     },
     "execution_count": 1,
     "metadata": {},
     "output_type": "execute_result"
    }
   ],
   "source": [
    "import pandas as pd\n",
    "\n",
    "columns = ['Prev Close','Open','High','Low','Last','Close','VWAP','Volume','Month']\n",
    "label = 'High'\n",
    "stock = pd.read_csv('DRREDDY_train.csv')\n",
    "stock['Month'] = pd.DatetimeIndex(stock['Date']).month\n",
    "stock = stock[columns]\n",
    "stock.info()\n",
    "stock.describe()"
   ]
  },
  {
   "cell_type": "code",
   "execution_count": 2,
   "metadata": {},
   "outputs": [],
   "source": [
    "# %matplotlib inline\n",
    "# import matplotlib as plt\n",
    "# stock.hist(bins=50, figsize=(20, 15))"
   ]
  },
  {
   "cell_type": "code",
   "execution_count": 3,
   "metadata": {},
   "outputs": [
    {
     "name": "stdout",
     "output_type": "stream",
     "text": [
      "Rows in train set: 4130\n",
      "Rows in test set: 1033\n",
      "\n"
     ]
    }
   ],
   "source": [
    "from sklearn.model_selection import train_test_split\n",
    "train_set, test_set= train_test_split(stock, test_size= 0.2, random_state= 42)\n",
    "print(f\"Rows in train set: {len(train_set)}\\nRows in test set: {len(test_set)}\\n\")\n",
    "stock_train_set = train_set.drop(label, axis=1)\n",
    "stock_train_labels = train_set[label].copy()\n",
    "stock_test_set = test_set.drop(label, axis=1)\n",
    "stock_test_labels = test_set[label].copy()"
   ]
  },
  {
   "cell_type": "markdown",
   "metadata": {},
   "source": [
    "## Correlation"
   ]
  },
  {
   "cell_type": "code",
   "execution_count": 4,
   "metadata": {},
   "outputs": [
    {
     "data": {
      "text/plain": [
       "High          1.000000\n",
       "VWAP          0.999791\n",
       "Close         0.999648\n",
       "Last          0.999629\n",
       "Open          0.999561\n",
       "Low           0.999288\n",
       "Prev Close    0.999272\n",
       "Volume        0.283956\n",
       "Month         0.014808\n",
       "Name: High, dtype: float64"
      ]
     },
     "execution_count": 4,
     "metadata": {},
     "output_type": "execute_result"
    }
   ],
   "source": [
    "corr_matrix = train_set.corr()\n",
    "corr_matrix[label].sort_values(ascending=False)"
   ]
  },
  {
   "cell_type": "code",
   "execution_count": 5,
   "metadata": {},
   "outputs": [],
   "source": [
    "# stock.plot(kind=\"scatter\", x=label, y=\"Last\", alpha=0.8)\n",
    "# stock.plot(kind=\"scatter\", x=label, y=\"VWAP\", alpha=0.8)\n",
    "# stock.plot(kind=\"scatter\", x=label, y=\"Close\", alpha=0.8)\n",
    "# stock.plot(kind=\"scatter\", x=label, y=\"Low\", alpha=0.8)\n",
    "# stock.plot(kind=\"scatter\", x=label, y=\"Open\", alpha=0.8)\n",
    "# stock.plot(kind=\"scatter\", x=label, y=\"Prev Close\", alpha=0.8)\n",
    "# stock.plot(kind=\"scatter\", x=label, y=\"Volume\", alpha=0.8)\n",
    "# stock.plot(kind=\"scatter\", x=label, y=\"Month\", alpha=0.8)"
   ]
  },
  {
   "cell_type": "markdown",
   "metadata": {},
   "source": [
    "## Create Pipeline"
   ]
  },
  {
   "cell_type": "code",
   "execution_count": 6,
   "metadata": {},
   "outputs": [],
   "source": [
    "from sklearn.pipeline import Pipeline\n",
    "from sklearn.impute import SimpleImputer\n",
    "from sklearn.preprocessing import StandardScaler\n",
    "my_pipeline = Pipeline([\n",
    "    ('imputer', SimpleImputer(strategy='median')),\n",
    "    ('std_scalar', StandardScaler()),\n",
    "])"
   ]
  },
  {
   "cell_type": "code",
   "execution_count": 7,
   "metadata": {},
   "outputs": [
    {
     "data": {
      "text/plain": [
       "array([[ 0.76803952,  0.74331219,  0.66597298, ...,  0.69894463,\n",
       "         0.65302548,  1.05331505],\n",
       "       [ 0.95102364,  0.96755164,  0.99888461, ...,  0.98514258,\n",
       "         0.84006167,  1.63919938],\n",
       "       [ 1.33828103,  1.3341166 ,  1.37595324, ...,  1.34937216,\n",
       "        -0.33880151,  1.05331505],\n",
       "       ...,\n",
       "       [-0.08275712, -0.07992308, -0.06937295, ..., -0.08783592,\n",
       "        -0.29552084, -0.41139578],\n",
       "       [ 1.65212931,  1.61160013,  1.6514556 , ...,  1.63872538,\n",
       "        -0.34659139, -1.29022227],\n",
       "       [-0.80720391, -0.81202907, -0.80125052, ..., -0.80826346,\n",
       "        -0.61763657, -0.11845361]])"
      ]
     },
     "execution_count": 7,
     "metadata": {},
     "output_type": "execute_result"
    }
   ],
   "source": [
    "stock_num_train = my_pipeline.fit_transform(stock_train_set)\n",
    "stock_num_train"
   ]
  },
  {
   "cell_type": "markdown",
   "metadata": {},
   "source": [
    "## Selecting a desired model"
   ]
  },
  {
   "cell_type": "code",
   "execution_count": 8,
   "metadata": {},
   "outputs": [
    {
     "data": {
      "text/plain": [
       "LinearRegression()"
      ]
     },
     "execution_count": 8,
     "metadata": {},
     "output_type": "execute_result"
    }
   ],
   "source": [
    "from sklearn.linear_model import LinearRegression\n",
    "model = LinearRegression()\n",
    "model.fit(stock_num_train, stock_train_labels)"
   ]
  },
  {
   "cell_type": "code",
   "execution_count": 9,
   "metadata": {},
   "outputs": [
    {
     "name": "stdout",
     "output_type": "stream",
     "text": [
      "      Prev Close     Open      Low     Last    Close     VWAP  Volume  Month\n",
      "1726      790.80   790.00   775.10   781.05   779.90   786.79  289516     11\n",
      "1666     1495.70  1502.90  1462.55  1474.00  1474.20  1476.95  193231      8\n",
      "4230     2998.55  2990.00  2979.10  2983.95  2986.00  3002.75  106615     12\n",
      "1181      756.10   758.00   746.00   749.20   750.35   757.32  415561      9\n",
      "3129     1657.95  1661.25  1633.85  1646.80  1644.75  1648.31  293174      7\n",
      "=====PREDICTED=====\n",
      "[ 800.70121138 1502.85181181 3023.50747987  770.43935113 1671.14380494]\n",
      "=====ACTUAL=====\n",
      "[796.9, 1502.9, 3028.0, 765.0, 1663.9]\n",
      "=====RMSE=====\n",
      "10.59015830606504\n"
     ]
    }
   ],
   "source": [
    "some_data = stock_test_set.iloc[:5]\n",
    "some_labels = stock_test_labels.iloc[:5]\n",
    "prepared_data = my_pipeline.transform(some_data)\n",
    "print(some_data)\n",
    "print('=====PREDICTED=====')\n",
    "print(model.predict(prepared_data))\n",
    "print('=====ACTUAL=====')\n",
    "print(list(some_labels))\n",
    "\n",
    "import numpy as np\n",
    "from sklearn.metrics import mean_squared_error\n",
    "stock_predictions = model.predict(my_pipeline.transform(stock_test_set))\n",
    "mse = mean_squared_error(stock_test_labels, stock_predictions)\n",
    "rmse = np.sqrt(mse)\n",
    "print('=====RMSE=====')\n",
    "print(rmse)"
   ]
  },
  {
   "cell_type": "markdown",
   "metadata": {},
   "source": [
    "## Cross Validation"
   ]
  },
  {
   "cell_type": "code",
   "execution_count": 10,
   "metadata": {},
   "outputs": [],
   "source": [
    "from sklearn.model_selection import cross_val_score\n",
    "scores = cross_val_score(model, stock_num_train, stock_train_labels, scoring=\"neg_mean_squared_error\", cv=10)\n",
    "rmse_scores = np.sqrt(-scores)"
   ]
  },
  {
   "cell_type": "code",
   "execution_count": 11,
   "metadata": {},
   "outputs": [],
   "source": [
    "def print_scores(scores):\n",
    "    print(\"Scores:\", scores)\n",
    "    print(\"Mean: \", scores.mean())\n",
    "    print(\"Standard deviation: \", scores.std())"
   ]
  },
  {
   "cell_type": "code",
   "execution_count": 12,
   "metadata": {},
   "outputs": [
    {
     "name": "stdout",
     "output_type": "stream",
     "text": [
      "Scores: [17.3696461  12.01794196 22.69148155 11.58301361 11.43475673 11.36863468\n",
      " 11.89515773  9.91984593 17.17113606 11.50240711]\n",
      "Mean:  13.695402148139985\n",
      "Standard deviation:  3.829041576764112\n"
     ]
    }
   ],
   "source": [
    "print_scores(rmse_scores)"
   ]
  },
  {
   "cell_type": "markdown",
   "metadata": {},
   "source": [
    "## Saving Model"
   ]
  },
  {
   "cell_type": "code",
   "execution_count": 13,
   "metadata": {},
   "outputs": [
    {
     "data": {
      "text/plain": [
       "['LinerReg.joblib']"
      ]
     },
     "execution_count": 13,
     "metadata": {},
     "output_type": "execute_result"
    }
   ],
   "source": [
    "from joblib import dump, load\n",
    "dump(model, 'LinerReg.joblib') "
   ]
  },
  {
   "cell_type": "markdown",
   "metadata": {},
   "source": [
    "## Using Model"
   ]
  },
  {
   "cell_type": "code",
   "execution_count": 14,
   "metadata": {},
   "outputs": [
    {
     "data": {
      "text/plain": [
       "array([2489.761597])"
      ]
     },
     "execution_count": 14,
     "metadata": {},
     "output_type": "execute_result"
    }
   ],
   "source": [
    "from joblib import dump, load\n",
    "import numpy as np\n",
    "model = load('LinerReg.joblib')\n",
    "'''\n",
    "['Prev Close','Open','Low','Last','Close','VWAP','Volume','Month']\n",
    "'''\n",
    "features = my_pipeline.transform([[2489.55,2469.0,2360.25,2365.05,2372.45,2424.61,804214,10]])\n",
    "model.predict(features)"
   ]
  }
 ],
 "metadata": {
  "kernelspec": {
   "display_name": "Python 3",
   "language": "python",
   "name": "python3"
  },
  "language_info": {
   "codemirror_mode": {
    "name": "ipython",
    "version": 3
   },
   "file_extension": ".py",
   "mimetype": "text/x-python",
   "name": "python",
   "nbconvert_exporter": "python",
   "pygments_lexer": "ipython3",
   "version": "3.8.6rc1"
  }
 },
 "nbformat": 4,
 "nbformat_minor": 4
}
